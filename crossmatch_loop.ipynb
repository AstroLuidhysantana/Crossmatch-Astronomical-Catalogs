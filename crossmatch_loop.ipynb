{
 "cells": [
  {
   "cell_type": "code",
   "execution_count": 1,
   "id": "b47140e2-37e3-4753-8c0e-03d4138648b3",
   "metadata": {},
   "outputs": [],
   "source": [
    "import matplotlib.pyplot as plt\n",
    "import numpy as np\n",
    "from astropy.io import fits\n",
    "import os\n",
    "from astropy.table import Table, hstack, vstack\n",
    "from matplotlib.colors import LogNorm\n",
    "from scipy.stats import kde\n",
    "import healpy as hp\n",
    "from numpy import empty\n",
    "import astropy.coordinates\n",
    "import pandas as pd\n",
    "import glob \n",
    "from astropy.io.fits import getheader\n",
    "from astropy.table import Table\n",
    "from astropy import units as u\n",
    "from astropy.coordinates import SkyCoord\n",
    "import fitsio\n",
    "import time as time\n",
    "from joblib import Parallel, delayed\n",
    "from tqdm import tqdm"
   ]
  },
  {
   "cell_type": "code",
   "execution_count": 2,
   "id": "05e49071-be1b-4854-90a0-d8e899fde122",
   "metadata": {},
   "outputs": [
    {
     "name": "stdout",
     "output_type": "stream",
     "text": [
      "<class 'pandas.core.frame.DataFrame'>\n",
      "RangeIndex: 964 entries, 0 to 963\n",
      "Data columns (total 4 columns):\n",
      " #   Column         Non-Null Count  Dtype  \n",
      "---  ------         --------------  -----  \n",
      " 0   NUMBER         964 non-null    int32  \n",
      " 1   ALPHA_J2000    964 non-null    float64\n",
      " 2   DELTA_J2000    964 non-null    float64\n",
      " 3   ISOAREA_IMAGE  964 non-null    int32  \n",
      "dtypes: float64(2), int32(2)\n",
      "memory usage: 22.7 KB\n"
     ]
    }
   ],
   "source": [
    "###load the catalog you want to obtain more information\n",
    "data = Table.read('mytable.fits', format='fits')\n",
    "df_my = data.to_pandas()\n",
    "df_my.info()\n",
    "\n",
    "###select just the collumns needed for this file\n",
    "objid = np.array(data['NUMBER'])\n",
    "ra_my = np.array(data['ALPHA_J2000'])\n",
    "dec_my = np.array(data['DELTA_J2000'])\n",
    "#disk = np.array(data['P_disk'])\n",
    "\n"
   ]
  },
  {
   "cell_type": "code",
   "execution_count": 3,
   "id": "f4e70513-343c-4b35-8714-9dc6eb2c591b",
   "metadata": {},
   "outputs": [
    {
     "name": "stdout",
     "output_type": "stream",
     "text": [
      "['fullcats/D00817272_r_09_r1p1_fullcat.fits', 'fullcats/D00817688_r_29_r1p1_fullcat.fits', 'fullcats/D00850390_r_42_r1p1_fullcat.fits', 'fullcats/D00817258_r_59_r1p1_fullcat.fits', 'fullcats/D00817257_r_13_r1p1_fullcat.fits', 'fullcats/D00850390_r_42_r1p1_fullcat (copy).fits', 'fullcats/D00850390_r_42_r1p1_fullcat (another copy).fits']\n"
     ]
    }
   ],
   "source": [
    "#####loading the fullcats file\n",
    "filenames = glob.glob(\"fullcats/*.fits\")\n",
    "print(filenames)\n",
    "path_output = 'out_crossmatch/'"
   ]
  },
  {
   "cell_type": "code",
   "execution_count": 4,
   "id": "ae8ba996-c556-4a62-9d82-39ac5adf8f16",
   "metadata": {},
   "outputs": [],
   "source": [
    "####its a funtions to obtain just the filename instead of the full path\n",
    "def getName(string):\n",
    "    name = string.split('/')[1] ###how many bars has in filenames\n",
    "    return name"
   ]
  },
  {
   "cell_type": "code",
   "execution_count": 5,
   "id": "a28a2b97",
   "metadata": {},
   "outputs": [],
   "source": [
    "def Crossmatch(filenames,max_separation,step):\n",
    "    f = filenames[step]\n",
    "    #print(f)\n",
    "    data_fullcats = fitsio.read(f,columns=['ALPHA_J2000','DELTA_J2000','ISOAREA_IMAGE','ISOAREAF_IMAGE','KRON_RADIUS','FLAGS'], ext=2)\n",
    "    #df_fullcats = pd.DataFrame(data_fullcats.byteswap().newbyteorder())\n",
    "    ###define the collumns you want to match\n",
    "    #inicio_individual = time.time()\n",
    "    ra_fullcats = np.array(data_fullcats['ALPHA_J2000'])\n",
    "    dec_fullcats = np.array(data_fullcats['DELTA_J2000'])\n",
    "    ISOAREA_IMAGE = np.array(data_fullcats['ISOAREA_IMAGE'])\n",
    "    ISOAREAF_IMAGE = np.array(data_fullcats['ISOAREAF_IMAGE'])\n",
    "    KRON_RADIUS = np.array(data_fullcats['KRON_RADIUS'])\n",
    "    FLAGS_fullcat = np.array(data_fullcats['FLAGS'])\n",
    "    \n",
    "    #####running the match\n",
    "    c_my = SkyCoord(ra=ra_my*u.degree, dec=dec_my*u.degree)\n",
    "    c_fullcats = SkyCoord(ra=ra_fullcats*u.degree, dec=dec_fullcats*u.degree)\n",
    "    idx, d2d, d3d = c_my.match_to_catalog_sky(c_fullcats)\n",
    "    print(d2d.value)\n",
    "    sep_constraint = d2d < max_separation\n",
    "    #final_individual = time.time()\n",
    "    #print(\"time to peform the individual match for\", getName(f),\"=\",final_individual - inicio_individual, \"seconds\")\n",
    "    if len(idx[sep_constraint]) > 0:\n",
    "        idx = idx[sep_constraint]\n",
    "        objid_match = objid[sep_constraint]\n",
    "        objid_match_f = objid_match.reshape(-1,1)\n",
    "        ra_my_match = ra_my[sep_constraint]\n",
    "        ra_my_match_f = ra_my_match.reshape(-1,1)\n",
    "        dec_my_match = dec_my[sep_constraint]\n",
    "        dec_my_match_f = dec_my_match.reshape(-1,1)\n",
    "        \n",
    "        ra_fullcats_match = ra_fullcats[idx[sep_constraint]]\n",
    "        ra_fullcats_match_f = ra_fullcats_match.reshape(-1,1)\n",
    "        dec_fullcats_match = dec_fullcats[idx[sep_constraint]]\n",
    "        dec_fullcats_match_f = dec_fullcats_match.reshape(-1,1)\n",
    "        ISOAREA_IMAGE_match = ISOAREA_IMAGE[idx[sep_constraint]]\n",
    "        ISOAREA_IMAGE_match_f = ISOAREA_IMAGE_match.reshape(-1,1)\n",
    "        ISOAREAF_IMAGE_match = ISOAREAF_IMAGE[idx[sep_constraint]]\n",
    "        ISOAREAF_IMAGE_match_f = ISOAREAF_IMAGE_match.reshape(-1,1)\n",
    "        KRON_RADIUS_match = KRON_RADIUS[idx[sep_constraint]]\n",
    "        KRON_RADIUS_match_f = KRON_RADIUS_match.reshape(-1,1)\n",
    "        FLAGS_fullcat_match = FLAGS_fullcat[idx[sep_constraint]]\n",
    "        FLAGS_fullcat_match_f = FLAGS_fullcat_match.reshape(-1,1)\n",
    "\n",
    "        ####saving all the columns into a single array\n",
    "        con = np.concatenate((objid_match_f,ra_my_match_f,dec_my_match_f,ra_fullcats_match_f,dec_fullcats_match_f,\n",
    "                              ISOAREA_IMAGE_match_f,ISOAREAF_IMAGE_match_f,KRON_RADIUS_match_f,FLAGS_fullcat_match_f), axis=1)\n",
    "        ###saving the con array  into a table\n",
    "        df_out = pd.DataFrame(con, columns= ['objID','ra','dec','ra_fullcats','dec_fullcats','ISOAREA','ISOAREAF','Kron_radius','flag'] )\n",
    "        \n",
    "        t = Table.from_pandas(df_out)\n",
    "        t.write(path_output+getName(f), overwrite=True)\n",
    "    else:\n",
    "        print(\"Not enough objects inside the crossmatch Radius\")\n",
    "        \n",
    "    \n"
   ]
  },
  {
   "cell_type": "code",
   "execution_count": 6,
   "id": "55ad15cc-25cf-485a-a51b-13075744b271",
   "metadata": {},
   "outputs": [
    {
     "name": "stderr",
     "output_type": "stream",
     "text": [
      "100%|██████████| 7/7 [00:01<00:00,  6.77it/s]\n"
     ]
    }
   ],
   "source": [
    "max_separation = 2.0*u.arcsec\n",
    "num_process = 2 # seta numero dos cors aqui\n",
    "inicio_match = time.time()\n",
    "\n",
    "Parallel(n_jobs=num_process)(delayed(Crossmatch)(filenames, max_separation, step) for step in tqdm(range(len(filenames))))\n",
    "final_match = time.time()\n"
   ]
  },
  {
   "cell_type": "code",
   "execution_count": null,
   "id": "4517875d-e4b0-4313-ab13-9968f1b7dd61",
   "metadata": {},
   "outputs": [],
   "source": []
  }
 ],
 "metadata": {
  "kernelspec": {
   "display_name": "Python 3",
   "language": "python",
   "name": "python3"
  },
  "language_info": {
   "codemirror_mode": {
    "name": "ipython",
    "version": 3
   },
   "file_extension": ".py",
   "mimetype": "text/x-python",
   "name": "python",
   "nbconvert_exporter": "python",
   "pygments_lexer": "ipython3",
   "version": "3.7.11"
  },
  "vscode": {
   "interpreter": {
    "hash": "8aafad043b804b83fedd2c97a6a5aaf3c04cceaca8b68175ea97a632389630c8"
   }
  }
 },
 "nbformat": 4,
 "nbformat_minor": 5
}
